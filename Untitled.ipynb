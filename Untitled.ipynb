{
 "cells": [
  {
   "cell_type": "code",
   "execution_count": 76,
   "metadata": {},
   "outputs": [],
   "source": [
    "import pandas as pd\n",
    "import numpy as np\n",
    "import matplotlib.pyplot as plt"
   ]
  },
  {
   "cell_type": "code",
   "execution_count": 5,
   "metadata": {},
   "outputs": [],
   "source": [
    "stack = pd.read_excel(\"../Desktop/새 폴더/2020빅콘테스트 문제데이터(혁신아이디어분야)/05_물류데이터(CJ올리브네트웍스)/2020 빅콘테스트_CJ올리브네트웍스_제공DB.xlsx\")"
   ]
  },
  {
   "cell_type": "code",
   "execution_count": 7,
   "metadata": {},
   "outputs": [
    {
     "data": {
      "text/html": [
       "<div>\n",
       "<style scoped>\n",
       "    .dataframe tbody tr th:only-of-type {\n",
       "        vertical-align: middle;\n",
       "    }\n",
       "\n",
       "    .dataframe tbody tr th {\n",
       "        vertical-align: top;\n",
       "    }\n",
       "\n",
       "    .dataframe thead th {\n",
       "        text-align: right;\n",
       "    }\n",
       "</style>\n",
       "<table border=\"1\" class=\"dataframe\">\n",
       "  <thead>\n",
       "    <tr style=\"text-align: right;\">\n",
       "      <th></th>\n",
       "      <th>DL_YMD</th>\n",
       "      <th>DL_GD_LCLS_CD</th>\n",
       "      <th>CTPV_CD</th>\n",
       "      <th>CTGG_CD</th>\n",
       "      <th>HDNG_CD</th>\n",
       "      <th>INVC_CONT</th>\n",
       "    </tr>\n",
       "  </thead>\n",
       "  <tbody>\n",
       "    <tr>\n",
       "      <th>count</th>\n",
       "      <td>156571.000000</td>\n",
       "      <td>156571.000000</td>\n",
       "      <td>156571.000000</td>\n",
       "      <td>156571.000000</td>\n",
       "      <td>156571.000000</td>\n",
       "      <td>156571.000000</td>\n",
       "    </tr>\n",
       "    <tr>\n",
       "      <th>mean</th>\n",
       "      <td>195459.258394</td>\n",
       "      <td>16.080583</td>\n",
       "      <td>19.060037</td>\n",
       "      <td>23.396127</td>\n",
       "      <td>615.068627</td>\n",
       "      <td>113.849142</td>\n",
       "    </tr>\n",
       "    <tr>\n",
       "      <th>std</th>\n",
       "      <td>4997.860918</td>\n",
       "      <td>3.456943</td>\n",
       "      <td>7.999800</td>\n",
       "      <td>9.215065</td>\n",
       "      <td>52.076449</td>\n",
       "      <td>151.743973</td>\n",
       "    </tr>\n",
       "    <tr>\n",
       "      <th>min</th>\n",
       "      <td>190201.000000</td>\n",
       "      <td>10.000000</td>\n",
       "      <td>11.000000</td>\n",
       "      <td>11.000000</td>\n",
       "      <td>510.000000</td>\n",
       "      <td>1.000000</td>\n",
       "    </tr>\n",
       "    <tr>\n",
       "      <th>25%</th>\n",
       "      <td>190404.000000</td>\n",
       "      <td>13.000000</td>\n",
       "      <td>11.000000</td>\n",
       "      <td>14.000000</td>\n",
       "      <td>575.000000</td>\n",
       "      <td>14.000000</td>\n",
       "    </tr>\n",
       "    <tr>\n",
       "      <th>50%</th>\n",
       "      <td>200203.000000</td>\n",
       "      <td>16.000000</td>\n",
       "      <td>27.000000</td>\n",
       "      <td>26.000000</td>\n",
       "      <td>619.000000</td>\n",
       "      <td>55.000000</td>\n",
       "    </tr>\n",
       "    <tr>\n",
       "      <th>75%</th>\n",
       "      <td>200402.000000</td>\n",
       "      <td>19.000000</td>\n",
       "      <td>27.000000</td>\n",
       "      <td>35.000000</td>\n",
       "      <td>660.000000</td>\n",
       "      <td>156.000000</td>\n",
       "    </tr>\n",
       "    <tr>\n",
       "      <th>max</th>\n",
       "      <td>200531.000000</td>\n",
       "      <td>21.000000</td>\n",
       "      <td>27.000000</td>\n",
       "      <td>35.000000</td>\n",
       "      <td>720.000000</td>\n",
       "      <td>2667.000000</td>\n",
       "    </tr>\n",
       "  </tbody>\n",
       "</table>\n",
       "</div>"
      ],
      "text/plain": [
       "              DL_YMD  DL_GD_LCLS_CD        CTPV_CD        CTGG_CD  \\\n",
       "count  156571.000000  156571.000000  156571.000000  156571.000000   \n",
       "mean   195459.258394      16.080583      19.060037      23.396127   \n",
       "std      4997.860918       3.456943       7.999800       9.215065   \n",
       "min    190201.000000      10.000000      11.000000      11.000000   \n",
       "25%    190404.000000      13.000000      11.000000      14.000000   \n",
       "50%    200203.000000      16.000000      27.000000      26.000000   \n",
       "75%    200402.000000      19.000000      27.000000      35.000000   \n",
       "max    200531.000000      21.000000      27.000000      35.000000   \n",
       "\n",
       "             HDNG_CD      INVC_CONT  \n",
       "count  156571.000000  156571.000000  \n",
       "mean      615.068627     113.849142  \n",
       "std        52.076449     151.743973  \n",
       "min       510.000000       1.000000  \n",
       "25%       575.000000      14.000000  \n",
       "50%       619.000000      55.000000  \n",
       "75%       660.000000     156.000000  \n",
       "max       720.000000    2667.000000  "
      ]
     },
     "execution_count": 7,
     "metadata": {},
     "output_type": "execute_result"
    }
   ],
   "source": [
    "stack.describe()"
   ]
  },
  {
   "cell_type": "code",
   "execution_count": 9,
   "metadata": {},
   "outputs": [
    {
     "name": "stdout",
     "output_type": "stream",
     "text": [
      "<class 'pandas.core.frame.DataFrame'>\n",
      "RangeIndex: 156571 entries, 0 to 156570\n",
      "Data columns (total 10 columns):\n",
      " #   Column         Non-Null Count   Dtype \n",
      "---  ------         --------------   ----- \n",
      " 0   DL_YMD         156571 non-null  int64 \n",
      " 1   DL_GD_LCLS_NM  156571 non-null  object\n",
      " 2   DL_GD_LCLS_CD  156571 non-null  int64 \n",
      " 3   CTPV_NM        156571 non-null  object\n",
      " 4   CTPV_CD        156571 non-null  int64 \n",
      " 5   CTGG_NM        156571 non-null  object\n",
      " 6   CTGG_CD        156571 non-null  int64 \n",
      " 7   HDNG_NM        156571 non-null  object\n",
      " 8   HDNG_CD        156571 non-null  int64 \n",
      " 9   INVC_CONT      156571 non-null  int64 \n",
      "dtypes: int64(6), object(4)\n",
      "memory usage: 11.9+ MB\n"
     ]
    }
   ],
   "source": [
    "stack.info()"
   ]
  },
  {
   "cell_type": "code",
   "execution_count": 13,
   "metadata": {},
   "outputs": [
    {
     "data": {
      "text/plain": [
       "DL_YMD           0.0\n",
       "DL_GD_LCLS_NM    0.0\n",
       "DL_GD_LCLS_CD    0.0\n",
       "CTPV_NM          0.0\n",
       "CTPV_CD          0.0\n",
       "CTGG_NM          0.0\n",
       "CTGG_CD          0.0\n",
       "HDNG_NM          0.0\n",
       "HDNG_CD          0.0\n",
       "INVC_CONT        0.0\n",
       "dtype: float64"
      ]
     },
     "execution_count": 13,
     "metadata": {},
     "output_type": "execute_result"
    }
   ],
   "source": [
    "stack.isnull().sum() / len(stack)"
   ]
  },
  {
   "cell_type": "code",
   "execution_count": 12,
   "metadata": {
    "scrolled": true
   },
   "outputs": [
    {
     "data": {
      "text/html": [
       "<div>\n",
       "<style scoped>\n",
       "    .dataframe tbody tr th:only-of-type {\n",
       "        vertical-align: middle;\n",
       "    }\n",
       "\n",
       "    .dataframe tbody tr th {\n",
       "        vertical-align: top;\n",
       "    }\n",
       "\n",
       "    .dataframe thead th {\n",
       "        text-align: right;\n",
       "    }\n",
       "</style>\n",
       "<table border=\"1\" class=\"dataframe\">\n",
       "  <thead>\n",
       "    <tr style=\"text-align: right;\">\n",
       "      <th></th>\n",
       "      <th>DL_YMD</th>\n",
       "      <th>DL_GD_LCLS_NM</th>\n",
       "      <th>DL_GD_LCLS_CD</th>\n",
       "      <th>CTPV_NM</th>\n",
       "      <th>CTPV_CD</th>\n",
       "      <th>CTGG_NM</th>\n",
       "      <th>CTGG_CD</th>\n",
       "      <th>HDNG_NM</th>\n",
       "      <th>HDNG_CD</th>\n",
       "      <th>INVC_CONT</th>\n",
       "    </tr>\n",
       "  </thead>\n",
       "  <tbody>\n",
       "    <tr>\n",
       "      <th>0</th>\n",
       "      <td>190201</td>\n",
       "      <td>도서/음반</td>\n",
       "      <td>12</td>\n",
       "      <td>서울특별시</td>\n",
       "      <td>11</td>\n",
       "      <td>중구</td>\n",
       "      <td>14</td>\n",
       "      <td>동화동</td>\n",
       "      <td>665</td>\n",
       "      <td>16</td>\n",
       "    </tr>\n",
       "    <tr>\n",
       "      <th>1</th>\n",
       "      <td>190201</td>\n",
       "      <td>가구/인테리어</td>\n",
       "      <td>10</td>\n",
       "      <td>서울특별시</td>\n",
       "      <td>11</td>\n",
       "      <td>중구</td>\n",
       "      <td>14</td>\n",
       "      <td>신당동</td>\n",
       "      <td>615</td>\n",
       "      <td>4</td>\n",
       "    </tr>\n",
       "    <tr>\n",
       "      <th>2</th>\n",
       "      <td>190201</td>\n",
       "      <td>가구/인테리어</td>\n",
       "      <td>10</td>\n",
       "      <td>대구광역시</td>\n",
       "      <td>27</td>\n",
       "      <td>중구</td>\n",
       "      <td>11</td>\n",
       "      <td>성내1동</td>\n",
       "      <td>565</td>\n",
       "      <td>1</td>\n",
       "    </tr>\n",
       "    <tr>\n",
       "      <th>3</th>\n",
       "      <td>190201</td>\n",
       "      <td>도서/음반</td>\n",
       "      <td>12</td>\n",
       "      <td>대구광역시</td>\n",
       "      <td>27</td>\n",
       "      <td>중구</td>\n",
       "      <td>11</td>\n",
       "      <td>남산2동</td>\n",
       "      <td>650</td>\n",
       "      <td>6</td>\n",
       "    </tr>\n",
       "    <tr>\n",
       "      <th>4</th>\n",
       "      <td>190201</td>\n",
       "      <td>디지털/가전</td>\n",
       "      <td>13</td>\n",
       "      <td>대구광역시</td>\n",
       "      <td>27</td>\n",
       "      <td>수성구</td>\n",
       "      <td>26</td>\n",
       "      <td>고산3동</td>\n",
       "      <td>690</td>\n",
       "      <td>21</td>\n",
       "    </tr>\n",
       "  </tbody>\n",
       "</table>\n",
       "</div>"
      ],
      "text/plain": [
       "   DL_YMD DL_GD_LCLS_NM  DL_GD_LCLS_CD CTPV_NM  CTPV_CD CTGG_NM  CTGG_CD  \\\n",
       "0  190201         도서/음반             12   서울특별시       11      중구       14   \n",
       "1  190201       가구/인테리어             10   서울특별시       11      중구       14   \n",
       "2  190201       가구/인테리어             10   대구광역시       27      중구       11   \n",
       "3  190201         도서/음반             12   대구광역시       27      중구       11   \n",
       "4  190201        디지털/가전             13   대구광역시       27     수성구       26   \n",
       "\n",
       "  HDNG_NM  HDNG_CD  INVC_CONT  \n",
       "0     동화동      665         16  \n",
       "1     신당동      615          4  \n",
       "2    성내1동      565          1  \n",
       "3    남산2동      650          6  \n",
       "4    고산3동      690         21  "
      ]
     },
     "execution_count": 12,
     "metadata": {},
     "output_type": "execute_result"
    }
   ],
   "source": [
    "stack.head()"
   ]
  },
  {
   "cell_type": "code",
   "execution_count": 48,
   "metadata": {},
   "outputs": [
    {
     "data": {
      "image/png": "[encoded data removed]",
      "text/plain": [
       "<Figure size 432x288 with 1 Axes>"
      ]
     },
     "metadata": {
      "needs_background": "light"
     },
     "output_type": "display_data"
    }
   ],
   "source": [
    "plt.boxplot(stack[\"INVC_CONT\"])\n",
    "plt.show()"
   ]
  },
  {
   "cell_type": "code",
   "execution_count": 51,
   "metadata": {},
   "outputs": [
    {
     "data": {
      "text/plain": [
       "DL_YMD\n",
       "190201     11575\n",
       "190202      1646\n",
       "190203       369\n",
       "190204       123\n",
       "190205        69\n",
       "           ...  \n",
       "200527    106021\n",
       "200528    100891\n",
       "200529     91972\n",
       "200530     12289\n",
       "200531      9790\n",
       "Name: INVC_CONT, Length: 241, dtype: int64"
      ]
     },
     "execution_count": 51,
     "metadata": {},
     "output_type": "execute_result"
    }
   ],
   "source": [
    "stack.groupby(\"DL_YMD\")[\"INVC_CONT\"].sum()"
   ]
  },
  {
   "cell_type": "code",
   "execution_count": 52,
   "metadata": {
    "scrolled": true
   },
   "outputs": [
    {
     "data": {
      "text/plain": [
       "CTPV_CD\n",
       "11    10431968\n",
       "27     7393506\n",
       "Name: INVC_CONT, dtype: int64"
      ]
     },
     "execution_count": 52,
     "metadata": {},
     "output_type": "execute_result"
    }
   ],
   "source": [
    "stack.groupby(\"CTPV_CD\")[\"INVC_CONT\"].sum()"
   ]
  },
  {
   "cell_type": "markdown",
   "metadata": {},
   "source": [
    "11 : 서울특별시\n",
    "27 : 대구광역시"
   ]
  },
  {
   "cell_type": "code",
   "execution_count": 54,
   "metadata": {
    "scrolled": true
   },
   "outputs": [
    {
     "data": {
      "text/plain": [
       "CTGG_CD\n",
       "11    1592693\n",
       "14    3620016\n",
       "26    5800813\n",
       "35    6811952\n",
       "Name: INVC_CONT, dtype: int64"
      ]
     },
     "execution_count": 54,
     "metadata": {},
     "output_type": "execute_result"
    }
   ],
   "source": [
    "stack.groupby(\"CTGG_CD\")[\"INVC_CONT\"].sum()"
   ]
  },
  {
   "cell_type": "markdown",
   "metadata": {},
   "source": [
    "11 : 대구 중구\n",
    "14 : 서울 중구\n",
    "16 : 대구 수성구\n",
    "35 : 서울 노원구"
   ]
  },
  {
   "cell_type": "code",
   "execution_count": 55,
   "metadata": {},
   "outputs": [
    {
     "data": {
      "text/plain": [
       "DL_GD_LCLS_CD\n",
       "10     620358\n",
       "12    1202279\n",
       "13    1335898\n",
       "15    3370532\n",
       "16     193375\n",
       "17    4210021\n",
       "18      88766\n",
       "19    3492144\n",
       "20    1254317\n",
       "21    2057784\n",
       "Name: INVC_CONT, dtype: int64"
      ]
     },
     "execution_count": 55,
     "metadata": {},
     "output_type": "execute_result"
    }
   ],
   "source": [
    "stack.groupby(\"DL_GD_LCLS_CD\")[\"INVC_CONT\"].sum()"
   ]
  },
  {
   "cell_type": "markdown",
   "metadata": {},
   "source": [
    "10\t가구/인테리어\n",
    "12\t도서/음반\n",
    "13\t디지털/가전\n",
    "15\t생활건강\n",
    "16\t스포츠/레져\n",
    "17\t식품\n",
    "18\t출산/육아\n",
    "19\t패션의류\n",
    "20\t패션잡화\n",
    "21\t화장품/미용"
   ]
  },
  {
   "cell_type": "code",
   "execution_count": 72,
   "metadata": {},
   "outputs": [
    {
     "data": {
      "image/png": "[encoded data removed]",
      "text/plain": [
       "<Figure size 432x288 with 5 Axes>"
      ]
     },
     "metadata": {
      "needs_background": "light"
     },
     "output_type": "display_data"
    }
   ],
   "source": [
    "fig = plt.figure()\n",
    "ax = []\n",
    "for i in range(1, 6):\n",
    "    ax.append(fig.add_subplot(2,3,i))\n",
    "ax[0].scatter(stack[\"DL_YMD\"], stack[\"INVC_CONT\"])\n",
    "ax[1].scatter(stack[\"CTPV_CD\"], stack[\"INVC_CONT\"])\n",
    "ax[2].scatter(stack[\"CTGG_CD\"], stack[\"INVC_CONT\"])\n",
    "ax[3].scatter(stack[\"HDNG_CD\"], stack[\"INVC_CONT\"])\n",
    "ax[4].scatter(stack[\"DL_GD_LCLS_CD\"], stack[\"INVC_CONT\"])\n",
    "plt.show()"
   ]
  },
  {
   "cell_type": "code",
   "execution_count": 74,
   "metadata": {},
   "outputs": [
    {
     "data": {
      "text/plain": [
       "(array([7.7899e+04, 2.5500e+04, 1.5171e+04, 1.0737e+04, 7.6850e+03,\n",
       "        5.3880e+03, 4.0270e+03, 2.6730e+03, 2.0020e+03, 1.5570e+03,\n",
       "        1.0620e+03, 7.4300e+02, 5.5500e+02, 3.8400e+02, 2.7500e+02,\n",
       "        2.4900e+02, 1.7300e+02, 9.7000e+01, 9.8000e+01, 7.6000e+01,\n",
       "        3.8000e+01, 3.8000e+01, 3.5000e+01, 1.9000e+01, 3.0000e+01,\n",
       "        1.4000e+01, 9.0000e+00, 1.0000e+01, 4.0000e+00, 4.0000e+00,\n",
       "        7.0000e+00, 1.0000e+00, 3.0000e+00, 3.0000e+00, 0.0000e+00,\n",
       "        0.0000e+00, 2.0000e+00, 0.0000e+00, 0.0000e+00, 0.0000e+00,\n",
       "        1.0000e+00, 1.0000e+00, 0.0000e+00, 0.0000e+00, 0.0000e+00,\n",
       "        0.0000e+00, 0.0000e+00, 0.0000e+00, 0.0000e+00, 1.0000e+00]),\n",
       " array([1.00000e+00, 5.43200e+01, 1.07640e+02, 1.60960e+02, 2.14280e+02,\n",
       "        2.67600e+02, 3.20920e+02, 3.74240e+02, 4.27560e+02, 4.80880e+02,\n",
       "        5.34200e+02, 5.87520e+02, 6.40840e+02, 6.94160e+02, 7.47480e+02,\n",
       "        8.00800e+02, 8.54120e+02, 9.07440e+02, 9.60760e+02, 1.01408e+03,\n",
       "        1.06740e+03, 1.12072e+03, 1.17404e+03, 1.22736e+03, 1.28068e+03,\n",
       "        1.33400e+03, 1.38732e+03, 1.44064e+03, 1.49396e+03, 1.54728e+03,\n",
       "        1.60060e+03, 1.65392e+03, 1.70724e+03, 1.76056e+03, 1.81388e+03,\n",
       "        1.86720e+03, 1.92052e+03, 1.97384e+03, 2.02716e+03, 2.08048e+03,\n",
       "        2.13380e+03, 2.18712e+03, 2.24044e+03, 2.29376e+03, 2.34708e+03,\n",
       "        2.40040e+03, 2.45372e+03, 2.50704e+03, 2.56036e+03, 2.61368e+03,\n",
       "        2.66700e+03]),\n",
       " <BarContainer object of 50 artists>)"
      ]
     },
     "execution_count": 74,
     "metadata": {},
     "output_type": "execute_result"
    },
    {
     "data": {
      "image/png": "[encoded data removed]",
      "text/plain": [
       "<Figure size 720x360 with 2 Axes>"
      ]
     },
     "metadata": {
      "needs_background": "light"
     },
     "output_type": "display_data"
    }
   ],
   "source": [
    "fig = plt.figure()\n",
    "fig.set_size_inches(10, 5)\n",
    "ax_1 = fig.add_subplot(1, 2, 1)\n",
    "ax_2 = fig.add_subplot(1, 2, 2)\n",
    "ax_1.plot(stack[\"INVC_CONT\"])\n",
    "ax_2.hist(stack[\"INVC_CONT\"], bins = 50)"
   ]
  }
 ],
 "metadata": {
  "kernelspec": {
   "display_name": "Python 3",
   "language": "python",
   "name": "python3"
  },
  "language_info": {
   "codemirror_mode": {
    "name": "ipython",
    "version": 3
   },
   "file_extension": ".py",
   "mimetype": "text/x-python",
   "name": "python",
   "nbconvert_exporter": "python",
   "pygments_lexer": "ipython3",
   "version": "3.8.3"
  }
 },
 "nbformat": 4,
 "nbformat_minor": 4
}
